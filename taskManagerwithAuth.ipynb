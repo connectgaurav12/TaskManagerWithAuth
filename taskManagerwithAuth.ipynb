{
 "cells": [
  {
   "cell_type": "code",
   "execution_count": 57,
   "id": "5d0b40d5-5822-4605-9e0c-dad848d3be7a",
   "metadata": {},
   "outputs": [],
   "source": [
    "#Importing Packages\n",
    "import pandas as pd\n",
    "import hashlib  ##required to encrypt the password\n",
    "import os"
   ]
  },
  {
   "cell_type": "code",
   "execution_count": 59,
   "id": "6183cd54-9266-4eeb-9b44-3e51e4f101d4",
   "metadata": {},
   "outputs": [],
   "source": [
    "#Files to store user credentials and tasks for users\n",
    "users_file=\"users.csv\"\n",
    "tasks_file=\"tasks.csv\"\n",
    "\n",
    "#Create file if don't exist\n",
    "if not os.path.exists(\"users.csv\"):\n",
    "    pd.DataFrame(columns=['username','password']).to_csv(\"users.csv\")\n",
    "\n",
    "if not os.path.exists(\"tasks.csv\"):\n",
    "    pd.DataFrame(columns=['username','taskId','description','status']).to_csv(\"tasks.csv\")\n",
    "\n",
    "#function to hash encrypt the password\n",
    "def hash_password(password):\n",
    "    return hashlib.sha256(password.encode()).hexdigest()"
   ]
  },
  {
   "cell_type": "code",
   "execution_count": 91,
   "id": "eef11136-b50a-47c6-8e12-6392e19ded2f",
   "metadata": {},
   "outputs": [],
   "source": [
    "# function to register the user\n",
    "def register_user():\n",
    "    username = input(\"Please enter the Username:\")\n",
    "    password = input(\"Please enter the Password\")\n",
    "\n",
    "    user_df = pd.read_csv(users_file)\n",
    "\n",
    "    if username in user_df['username'].values:\n",
    "        print(\"Username Already exist. Please try using different user name\")\n",
    "        return False\n",
    "\n",
    "    hashed_pswd = hash_password(password)\n",
    "\n",
    "    new_user = pd.DataFrame([[username, hashed_pswd]], columns=['username', 'password'])\n",
    "    user_df = pd.concat([user_df, new_user], ignore_index=True)\n",
    "\n",
    "    user_df.to_csv(users_file,index=False)\n",
    "\n",
    "    print(\"Registration for \", username, \"is successful\")\n",
    "    return True"
   ]
  },
  {
   "cell_type": "code",
   "execution_count": 93,
   "id": "44e716ba-7999-44a8-a846-37af3774062b",
   "metadata": {},
   "outputs": [],
   "source": [
    "# Function for login/Authentication\n",
    "def login():\n",
    "    username = input(\"Please enter the Username:\")\n",
    "    password = input(\"Please enter the Password\")\n",
    "    user_df = pd.read_csv(users_file)\n",
    "\n",
    "    if username not in user_df['username'].values:\n",
    "        print(\"You have entered invalid username or password\")\n",
    "        return \"\"\n",
    "\n",
    "    hashed_pswd = hash_password(password)\n",
    "\n",
    "    if hashed_pswd != user_df[user_df['username'] == username]['password'].values[0]:\n",
    "        print(\"You have entered invalid username or password\")\n",
    "        return \"\"\n",
    "\n",
    "    print(\"Login Successful for username :\", username)\n",
    "    return username"
   ]
  },
  {
   "cell_type": "code",
   "execution_count": 95,
   "id": "a2f99fe4-79cd-4864-8998-43509e231b15",
   "metadata": {},
   "outputs": [],
   "source": [
    "# Function to add the task\n",
    "def add_task(username):\n",
    "    task_desc = input(\"Enter the task description :\")\n",
    "    task_df = pd.read_csv(tasks_file)\n",
    "    task_id = len(task_df) + 1\n",
    "    new_task = pd.DataFrame([[username, task_id, task_desc, 'Pending']],\n",
    "                            columns=['username', 'taskId', 'description', 'status'])\n",
    "    task_df = pd.concat([task_df, new_task], ignore_index=True)\n",
    "    task_df.to_csv(tasks_file, index=False)\n",
    "\n",
    "    print(\"Task for\", username, \"Added Successfully!. Task_id:\", task_id)\n",
    "\n",
    "\n",
    "# Function to View the tasks for a user\n",
    "def view_task(username):\n",
    "    task_df = pd.read_csv(tasks_file)\n",
    "    user_tasks = task_df[task_df['username'] == username]\n",
    "\n",
    "    if user_tasks.empty:\n",
    "        print(\"No task found for user :\", username)\n",
    "        return\n",
    "\n",
    "    for _, task in user_tasks.iterrows():\n",
    "        print(\"Task ID :\", task['taskId'], \"Description :\", task['description'], \"Status :\", task['status'])\n",
    "\n",
    "\n",
    "# Function to update Task as completed\n",
    "def update_task_completed(username):\n",
    "    task_id = int(input(\"Please enter the task ID to be marked as completed :\"))\n",
    "\n",
    "    task_df = pd.read_csv(tasks_file)\n",
    "    print(task_df[task_df['username'] == username]['taskId'].values)\n",
    "    if task_id not in task_df[task_df['username'] == username]['taskId'].values:\n",
    "        print(\"Invalid Task ID\")\n",
    "        return\n",
    "\n",
    "    task_df.loc[(task_df['username'] == username) & (task_df['taskId'] == task_id), 'status'] = 'Completed'\n",
    "    task_df.to_csv(tasks_file,index=False)\n",
    "    print(\"Task Id\", task_id, \" Updated to Completed for username \", username, \" !!\")\n",
    "\n",
    "\n",
    "# Function to delete the tasks\n",
    "def delete_task(username):\n",
    "    task_id = int(input(\"Please enter the task ID you want to delete :\"))\n",
    "\n",
    "    task_df = pd.read_csv(tasks_file)\n",
    "\n",
    "    if task_id not in task_df[task_df['username'] == username]['taskId'].values:\n",
    "        print(\"Invalid task Id for the user\")\n",
    "        return\n",
    "    # Removing the row from dataframe where username and task_id matches\n",
    "    # ~ negates the selection\n",
    "    task_df=task_df[~((task_df['username'] == username) & (task_df['taskId'] == task_id))]\n",
    "    task_df.to_csv(tasks_file, index=False)\n",
    "    print(\"Task id \", task_id, \" Deleted Successfully for username \", username)\n"
   ]
  },
  {
   "cell_type": "code",
   "execution_count": 97,
   "id": "5c67c15a-96a7-47a4-b154-fe3c62912cec",
   "metadata": {},
   "outputs": [],
   "source": [
    "# Interactive menu\n",
    "def menu(username):\n",
    "    while True:\n",
    "        print(\"\\nMenu\")\n",
    "        print(\"1. Add a Task\")\n",
    "        print(\"2. View Tasks\")\n",
    "        print(\"3. Mark a Task as Completed\")\n",
    "        print(\"4. Delete a Task\")\n",
    "        print(\"5. Logout\")\n",
    "\n",
    "        choice = input(\"Please enter your choice \")\n",
    "\n",
    "        if choice == '1':\n",
    "            add_task(username)\n",
    "        elif choice == '2':\n",
    "            view_task(username)\n",
    "        elif choice == '3':\n",
    "            update_task_completed(username)\n",
    "        elif choice == '4':\n",
    "            delete_task(username)\n",
    "        elif choice == '5':\n",
    "            print(\"Logging out\")\n",
    "            break\n",
    "        else:\n",
    "            print(\"Invalid Choice, Please try again\")\n"
   ]
  },
  {
   "cell_type": "code",
   "execution_count": null,
   "id": "245f81da-8f20-4a64-9fa4-c2dd2a43b673",
   "metadata": {},
   "outputs": [
    {
     "name": "stdout",
     "output_type": "stream",
     "text": [
      "Welcome to the task Manager\n",
      "1. Register\n",
      "2. Login\n",
      "3. Exit\n"
     ]
    },
    {
     "name": "stdin",
     "output_type": "stream",
     "text": [
      "Please enter your choice : 2\n",
      "Please enter the Username: user2\n",
      "Please enter the Password password2\n"
     ]
    },
    {
     "name": "stdout",
     "output_type": "stream",
     "text": [
      "You have entered invalid username or password\n",
      "Welcome to the task Manager\n",
      "1. Register\n",
      "2. Login\n",
      "3. Exit\n"
     ]
    },
    {
     "name": "stdin",
     "output_type": "stream",
     "text": [
      "Please enter your choice : 1\n",
      "Please enter the Username: user1\n",
      "Please enter the Password password1\n"
     ]
    },
    {
     "name": "stdout",
     "output_type": "stream",
     "text": [
      "Registration for  user1 is successful\n",
      "Welcome to the task Manager\n",
      "1. Register\n",
      "2. Login\n",
      "3. Exit\n"
     ]
    },
    {
     "name": "stdin",
     "output_type": "stream",
     "text": [
      "Please enter your choice : 1\n",
      "Please enter the Username: user2\n",
      "Please enter the Password password2\n"
     ]
    },
    {
     "name": "stdout",
     "output_type": "stream",
     "text": [
      "Registration for  user2 is successful\n",
      "Welcome to the task Manager\n",
      "1. Register\n",
      "2. Login\n",
      "3. Exit\n"
     ]
    },
    {
     "name": "stdin",
     "output_type": "stream",
     "text": [
      "Please enter your choice : 2\n",
      "Please enter the Username: user1\n",
      "Please enter the Password password1\n"
     ]
    },
    {
     "name": "stdout",
     "output_type": "stream",
     "text": [
      "Login Successful for username : user1\n",
      "\n",
      "Menu\n",
      "1. Add a Task\n",
      "2. View Tasks\n",
      "3. Mark a Task as Completed\n",
      "4. Delete a Task\n",
      "5. Logout\n"
     ]
    },
    {
     "name": "stdin",
     "output_type": "stream",
     "text": [
      "Please enter your choice  1\n",
      "Enter the task description : This if forst task for user1\n"
     ]
    },
    {
     "name": "stdout",
     "output_type": "stream",
     "text": [
      "Task for user1 Added Successfully!. Task_id: 1\n",
      "\n",
      "Menu\n",
      "1. Add a Task\n",
      "2. View Tasks\n",
      "3. Mark a Task as Completed\n",
      "4. Delete a Task\n",
      "5. Logout\n"
     ]
    },
    {
     "name": "stdin",
     "output_type": "stream",
     "text": [
      "Please enter your choice  1\n",
      "Enter the task description : This is Second task for user1\n"
     ]
    },
    {
     "name": "stdout",
     "output_type": "stream",
     "text": [
      "Task for user1 Added Successfully!. Task_id: 2\n",
      "\n",
      "Menu\n",
      "1. Add a Task\n",
      "2. View Tasks\n",
      "3. Mark a Task as Completed\n",
      "4. Delete a Task\n",
      "5. Logout\n"
     ]
    },
    {
     "name": "stdin",
     "output_type": "stream",
     "text": [
      "Please enter your choice  5\n"
     ]
    },
    {
     "name": "stdout",
     "output_type": "stream",
     "text": [
      "Logging out\n",
      "Welcome to the task Manager\n",
      "1. Register\n",
      "2. Login\n",
      "3. Exit\n"
     ]
    },
    {
     "name": "stdin",
     "output_type": "stream",
     "text": [
      "Please enter your choice : 2\n",
      "Please enter the Username: user2\n",
      "Please enter the Password password2\n"
     ]
    },
    {
     "name": "stdout",
     "output_type": "stream",
     "text": [
      "Login Successful for username : user2\n",
      "\n",
      "Menu\n",
      "1. Add a Task\n",
      "2. View Tasks\n",
      "3. Mark a Task as Completed\n",
      "4. Delete a Task\n",
      "5. Logout\n"
     ]
    },
    {
     "name": "stdin",
     "output_type": "stream",
     "text": [
      "Please enter your choice  1\n",
      "Enter the task description : This is forst task for user2\n"
     ]
    },
    {
     "name": "stdout",
     "output_type": "stream",
     "text": [
      "Task for user2 Added Successfully!. Task_id: 3\n",
      "\n",
      "Menu\n",
      "1. Add a Task\n",
      "2. View Tasks\n",
      "3. Mark a Task as Completed\n",
      "4. Delete a Task\n",
      "5. Logout\n"
     ]
    },
    {
     "name": "stdin",
     "output_type": "stream",
     "text": [
      "Please enter your choice  1\n",
      "Enter the task description : this is second task for user2\n"
     ]
    },
    {
     "name": "stdout",
     "output_type": "stream",
     "text": [
      "Task for user2 Added Successfully!. Task_id: 4\n",
      "\n",
      "Menu\n",
      "1. Add a Task\n",
      "2. View Tasks\n",
      "3. Mark a Task as Completed\n",
      "4. Delete a Task\n",
      "5. Logout\n"
     ]
    },
    {
     "name": "stdin",
     "output_type": "stream",
     "text": [
      "Please enter your choice  1\n",
      "Enter the task description : this is third task for user2\n"
     ]
    },
    {
     "name": "stdout",
     "output_type": "stream",
     "text": [
      "Task for user2 Added Successfully!. Task_id: 5\n",
      "\n",
      "Menu\n",
      "1. Add a Task\n",
      "2. View Tasks\n",
      "3. Mark a Task as Completed\n",
      "4. Delete a Task\n",
      "5. Logout\n"
     ]
    },
    {
     "name": "stdin",
     "output_type": "stream",
     "text": [
      "Please enter your choice  2\n"
     ]
    },
    {
     "name": "stdout",
     "output_type": "stream",
     "text": [
      "Task ID : 3 Description : This is forst task for user2 Status : Pending\n",
      "Task ID : 4 Description : this is second task for user2 Status : Pending\n",
      "Task ID : 5 Description : this is third task for user2 Status : Pending\n",
      "\n",
      "Menu\n",
      "1. Add a Task\n",
      "2. View Tasks\n",
      "3. Mark a Task as Completed\n",
      "4. Delete a Task\n",
      "5. Logout\n"
     ]
    },
    {
     "name": "stdin",
     "output_type": "stream",
     "text": [
      "Please enter your choice  3\n",
      "Please enter the task ID to be marked as completed : 4\n"
     ]
    },
    {
     "name": "stdout",
     "output_type": "stream",
     "text": [
      "[3 4 5]\n",
      "Task Id 4  Updated to Completed for username  user2  !!\n",
      "\n",
      "Menu\n",
      "1. Add a Task\n",
      "2. View Tasks\n",
      "3. Mark a Task as Completed\n",
      "4. Delete a Task\n",
      "5. Logout\n"
     ]
    },
    {
     "name": "stdin",
     "output_type": "stream",
     "text": [
      "Please enter your choice  4\n",
      "Please enter the task ID you want to delete : 4\n"
     ]
    },
    {
     "name": "stdout",
     "output_type": "stream",
     "text": [
      "Task id  4  Deleted Successfully for username  user2\n",
      "\n",
      "Menu\n",
      "1. Add a Task\n",
      "2. View Tasks\n",
      "3. Mark a Task as Completed\n",
      "4. Delete a Task\n",
      "5. Logout\n"
     ]
    },
    {
     "name": "stdin",
     "output_type": "stream",
     "text": [
      "Please enter your choice  2\n"
     ]
    },
    {
     "name": "stdout",
     "output_type": "stream",
     "text": [
      "Task ID : 3 Description : This is forst task for user2 Status : Pending\n",
      "Task ID : 5 Description : this is third task for user2 Status : Pending\n",
      "\n",
      "Menu\n",
      "1. Add a Task\n",
      "2. View Tasks\n",
      "3. Mark a Task as Completed\n",
      "4. Delete a Task\n",
      "5. Logout\n"
     ]
    },
    {
     "name": "stdin",
     "output_type": "stream",
     "text": [
      "Please enter your choice  3\n",
      "Please enter the task ID to be marked as completed : 3\n"
     ]
    },
    {
     "name": "stdout",
     "output_type": "stream",
     "text": [
      "[3 5]\n",
      "Task Id 3  Updated to Completed for username  user2  !!\n",
      "\n",
      "Menu\n",
      "1. Add a Task\n",
      "2. View Tasks\n",
      "3. Mark a Task as Completed\n",
      "4. Delete a Task\n",
      "5. Logout\n"
     ]
    },
    {
     "name": "stdin",
     "output_type": "stream",
     "text": [
      "Please enter your choice  2\n"
     ]
    },
    {
     "name": "stdout",
     "output_type": "stream",
     "text": [
      "Task ID : 3 Description : This is forst task for user2 Status : Completed\n",
      "Task ID : 5 Description : this is third task for user2 Status : Pending\n",
      "\n",
      "Menu\n",
      "1. Add a Task\n",
      "2. View Tasks\n",
      "3. Mark a Task as Completed\n",
      "4. Delete a Task\n",
      "5. Logout\n"
     ]
    }
   ],
   "source": [
    "# Main Function to initiate the call\n",
    "def main():\n",
    "    while True:\n",
    "        print(\"Welcome to the task Manager\")\n",
    "        print(\"1. Register\")\n",
    "        print(\"2. Login\")\n",
    "        print(\"3. Exit\")\n",
    "\n",
    "        choice = input(\"Please enter your choice :\")\n",
    "\n",
    "        if choice == '1':\n",
    "            register_user()\n",
    "        elif choice == '2':\n",
    "            username = login()\n",
    "            if username:\n",
    "                menu(username)\n",
    "        elif choice == '3':\n",
    "            break\n",
    "        else:\n",
    "            print(\"Invalid Choice, Please try again\")\n",
    "\n",
    "\n",
    "if __name__ == \"__main__\":\n",
    "    main()"
   ]
  },
  {
   "cell_type": "code",
   "execution_count": null,
   "id": "886fbffe-8588-4d7a-b2ca-b9222348a1de",
   "metadata": {},
   "outputs": [],
   "source": []
  }
 ],
 "metadata": {
  "kernelspec": {
   "display_name": "anaconda-2024.02-py310",
   "language": "python",
   "name": "conda-env-anaconda-2024.02-py310-py"
  },
  "language_info": {
   "codemirror_mode": {
    "name": "ipython",
    "version": 3
   },
   "file_extension": ".py",
   "mimetype": "text/x-python",
   "name": "python",
   "nbconvert_exporter": "python",
   "pygments_lexer": "ipython3",
   "version": "3.10.14"
  }
 },
 "nbformat": 4,
 "nbformat_minor": 5
}
